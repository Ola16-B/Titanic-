{
 "cells": [
  {
   "cell_type": "code",
   "execution_count": 2,
   "id": "49047bcf-8aaa-430b-8449-d87bfd07fb19",
   "metadata": {},
   "outputs": [],
   "source": [
    "import pandas as pd\n",
    "import seaborn as sns\n",
    "import numpy as np\n",
    "import matplotlib.pyplot as plt"
   ]
  },
  {
   "cell_type": "code",
   "execution_count": 3,
   "id": "ad3fc3b4-b78d-4208-98f9-b31211611e2d",
   "metadata": {},
   "outputs": [],
   "source": [
    "df=pd.read_csv(r'C:\\Users\\USER\\Desktop\\TITANIC.csv',header=None)"
   ]
  },
  {
   "cell_type": "code",
   "execution_count": 4,
   "id": "93b153ed-c15b-431c-9d92-0ebd07ba941c",
   "metadata": {},
   "outputs": [
    {
     "data": {
      "text/plain": [
       "(892, 1)"
      ]
     },
     "execution_count": 4,
     "metadata": {},
     "output_type": "execute_result"
    }
   ],
   "source": [
    "df.shape"
   ]
  },
  {
   "cell_type": "code",
   "execution_count": 5,
   "id": "87227f13-0f7d-4ce5-a474-6a28f2929b9a",
   "metadata": {},
   "outputs": [
    {
     "name": "stdout",
     "output_type": "stream",
     "text": [
      "<class 'pandas.core.frame.DataFrame'>\n",
      "RangeIndex: 892 entries, 0 to 891\n",
      "Data columns (total 1 columns):\n",
      " #   Column  Non-Null Count  Dtype \n",
      "---  ------  --------------  ----- \n",
      " 0   0       892 non-null    object\n",
      "dtypes: object(1)\n",
      "memory usage: 7.1+ KB\n"
     ]
    }
   ],
   "source": [
    "df.info()"
   ]
  },
  {
   "cell_type": "code",
   "execution_count": 6,
   "id": "020a1629-f7bc-4205-8cb5-f589ec8c12b7",
   "metadata": {},
   "outputs": [
    {
     "data": {
      "text/plain": [
       "Index([0], dtype='int64')"
      ]
     },
     "execution_count": 6,
     "metadata": {},
     "output_type": "execute_result"
    }
   ],
   "source": [
    "df.columns"
   ]
  },
  {
   "cell_type": "code",
   "execution_count": 7,
   "id": "3802f38a-d2f4-4560-9dd3-8f450ce78fb9",
   "metadata": {},
   "outputs": [
    {
     "name": "stderr",
     "output_type": "stream",
     "text": [
      "C:\\Users\\USER\\AppData\\Local\\Temp\\ipykernel_12032\\4069557498.py:2: UserWarning: Pandas doesn't allow columns to be created via a new attribute name - see https://pandas.pydata.org/pandas-docs/stable/indexing.html#attribute-access\n",
      "  df.column=['survived','pclass','sex','age','sibsp','parch',\n"
     ]
    }
   ],
   "source": [
    "df =df[0].str.split(',',expand=True)\n",
    "df.column=['survived','pclass','sex','age','sibsp','parch',\n",
    "                 'fare','embarked','class','who','adult_male','deck','embark_town','alive','alone'\n",
    "                ]                "
   ]
  },
  {
   "cell_type": "code",
   "execution_count": 8,
   "id": "17bb5669-4a54-477c-874a-967f63c1fab2",
   "metadata": {},
   "outputs": [
    {
     "name": "stdout",
     "output_type": "stream",
     "text": [
      "         0       1       2     3      4      5        6         7      8   \\\n",
      "0  survived  pclass     sex   age  sibsp  parch     fare  embarked  class   \n",
      "1         0       3    male  22.0      1      0     7.25         S  Third   \n",
      "2         1       1  female  38.0      1      0  71.2833         C  First   \n",
      "3         1       3  female  26.0      0      0    7.925         S  Third   \n",
      "4         1       1  female  35.0      1      0     53.1         S  First   \n",
      "\n",
      "      9           10    11           12     13     14  \n",
      "0    who  adult_male  deck  embark_town  alive  alone  \n",
      "1    man        True        Southampton     no  False  \n",
      "2  woman       False     C    Cherbourg    yes  False  \n",
      "3  woman       False        Southampton    yes   True  \n",
      "4  woman       False     C  Southampton    yes  False  \n"
     ]
    }
   ],
   "source": [
    "print(df.head())"
   ]
  },
  {
   "cell_type": "code",
   "execution_count": 9,
   "id": "dbe2ce9c-0092-4f83-b75e-ba8714815d34",
   "metadata": {},
   "outputs": [
    {
     "data": {
      "text/html": [
       "<div>\n",
       "<style scoped>\n",
       "    .dataframe tbody tr th:only-of-type {\n",
       "        vertical-align: middle;\n",
       "    }\n",
       "\n",
       "    .dataframe tbody tr th {\n",
       "        vertical-align: top;\n",
       "    }\n",
       "\n",
       "    .dataframe thead th {\n",
       "        text-align: right;\n",
       "    }\n",
       "</style>\n",
       "<table border=\"1\" class=\"dataframe\">\n",
       "  <thead>\n",
       "    <tr style=\"text-align: right;\">\n",
       "      <th></th>\n",
       "      <th>0</th>\n",
       "      <th>1</th>\n",
       "      <th>2</th>\n",
       "      <th>3</th>\n",
       "      <th>4</th>\n",
       "      <th>5</th>\n",
       "      <th>6</th>\n",
       "      <th>7</th>\n",
       "      <th>8</th>\n",
       "      <th>9</th>\n",
       "      <th>10</th>\n",
       "      <th>11</th>\n",
       "      <th>12</th>\n",
       "      <th>13</th>\n",
       "      <th>14</th>\n",
       "    </tr>\n",
       "  </thead>\n",
       "  <tbody>\n",
       "    <tr>\n",
       "      <th>0</th>\n",
       "      <td>survived</td>\n",
       "      <td>pclass</td>\n",
       "      <td>sex</td>\n",
       "      <td>age</td>\n",
       "      <td>sibsp</td>\n",
       "      <td>parch</td>\n",
       "      <td>fare</td>\n",
       "      <td>embarked</td>\n",
       "      <td>class</td>\n",
       "      <td>who</td>\n",
       "      <td>adult_male</td>\n",
       "      <td>deck</td>\n",
       "      <td>embark_town</td>\n",
       "      <td>alive</td>\n",
       "      <td>alone</td>\n",
       "    </tr>\n",
       "    <tr>\n",
       "      <th>1</th>\n",
       "      <td>0</td>\n",
       "      <td>3</td>\n",
       "      <td>male</td>\n",
       "      <td>22.0</td>\n",
       "      <td>1</td>\n",
       "      <td>0</td>\n",
       "      <td>7.25</td>\n",
       "      <td>S</td>\n",
       "      <td>Third</td>\n",
       "      <td>man</td>\n",
       "      <td>True</td>\n",
       "      <td></td>\n",
       "      <td>Southampton</td>\n",
       "      <td>no</td>\n",
       "      <td>False</td>\n",
       "    </tr>\n",
       "    <tr>\n",
       "      <th>2</th>\n",
       "      <td>1</td>\n",
       "      <td>1</td>\n",
       "      <td>female</td>\n",
       "      <td>38.0</td>\n",
       "      <td>1</td>\n",
       "      <td>0</td>\n",
       "      <td>71.2833</td>\n",
       "      <td>C</td>\n",
       "      <td>First</td>\n",
       "      <td>woman</td>\n",
       "      <td>False</td>\n",
       "      <td>C</td>\n",
       "      <td>Cherbourg</td>\n",
       "      <td>yes</td>\n",
       "      <td>False</td>\n",
       "    </tr>\n",
       "    <tr>\n",
       "      <th>3</th>\n",
       "      <td>1</td>\n",
       "      <td>3</td>\n",
       "      <td>female</td>\n",
       "      <td>26.0</td>\n",
       "      <td>0</td>\n",
       "      <td>0</td>\n",
       "      <td>7.925</td>\n",
       "      <td>S</td>\n",
       "      <td>Third</td>\n",
       "      <td>woman</td>\n",
       "      <td>False</td>\n",
       "      <td></td>\n",
       "      <td>Southampton</td>\n",
       "      <td>yes</td>\n",
       "      <td>True</td>\n",
       "    </tr>\n",
       "    <tr>\n",
       "      <th>4</th>\n",
       "      <td>1</td>\n",
       "      <td>1</td>\n",
       "      <td>female</td>\n",
       "      <td>35.0</td>\n",
       "      <td>1</td>\n",
       "      <td>0</td>\n",
       "      <td>53.1</td>\n",
       "      <td>S</td>\n",
       "      <td>First</td>\n",
       "      <td>woman</td>\n",
       "      <td>False</td>\n",
       "      <td>C</td>\n",
       "      <td>Southampton</td>\n",
       "      <td>yes</td>\n",
       "      <td>False</td>\n",
       "    </tr>\n",
       "  </tbody>\n",
       "</table>\n",
       "</div>"
      ],
      "text/plain": [
       "         0       1       2     3      4      5        6         7      8   \\\n",
       "0  survived  pclass     sex   age  sibsp  parch     fare  embarked  class   \n",
       "1         0       3    male  22.0      1      0     7.25         S  Third   \n",
       "2         1       1  female  38.0      1      0  71.2833         C  First   \n",
       "3         1       3  female  26.0      0      0    7.925         S  Third   \n",
       "4         1       1  female  35.0      1      0     53.1         S  First   \n",
       "\n",
       "      9           10    11           12     13     14  \n",
       "0    who  adult_male  deck  embark_town  alive  alone  \n",
       "1    man        True        Southampton     no  False  \n",
       "2  woman       False     C    Cherbourg    yes  False  \n",
       "3  woman       False        Southampton    yes   True  \n",
       "4  woman       False     C  Southampton    yes  False  "
      ]
     },
     "execution_count": 9,
     "metadata": {},
     "output_type": "execute_result"
    }
   ],
   "source": [
    "df.head()"
   ]
  },
  {
   "cell_type": "code",
   "execution_count": 10,
   "id": "1dc3a5ce-a637-4d30-b34f-5303eafd297f",
   "metadata": {},
   "outputs": [],
   "source": [
    "df.columns=df.iloc[0]"
   ]
  },
  {
   "cell_type": "code",
   "execution_count": 11,
   "id": "26d61d75-b478-4116-a328-772315f9bb67",
   "metadata": {},
   "outputs": [],
   "source": [
    "df=df.iloc[1:]"
   ]
  },
  {
   "cell_type": "code",
   "execution_count": 12,
   "id": "91536660-8491-460d-ba8b-81ccfb1a56e7",
   "metadata": {},
   "outputs": [
    {
     "name": "stdout",
     "output_type": "stream",
     "text": [
      "0 survived pclass     sex   age sibsp parch     fare embarked  class    who  \\\n",
      "0        0      3    male  22.0     1     0     7.25        S  Third    man   \n",
      "1        1      1  female  38.0     1     0  71.2833        C  First  woman   \n",
      "2        1      3  female  26.0     0     0    7.925        S  Third  woman   \n",
      "3        1      1  female  35.0     1     0     53.1        S  First  woman   \n",
      "4        0      3    male  35.0     0     0     8.05        S  Third    man   \n",
      "\n",
      "0 adult_male deck  embark_town alive  alone  \n",
      "0       True       Southampton    no  False  \n",
      "1      False    C    Cherbourg   yes  False  \n",
      "2      False       Southampton   yes   True  \n",
      "3      False    C  Southampton   yes  False  \n",
      "4       True       Southampton    no   True  \n"
     ]
    }
   ],
   "source": [
    "df.reset_index(drop=True,inplace=True)\n",
    "print(df.head())"
   ]
  },
  {
   "cell_type": "code",
   "execution_count": 13,
   "id": "81da37bd-45c9-4476-bfe1-e0632dccddcc",
   "metadata": {},
   "outputs": [
    {
     "name": "stdout",
     "output_type": "stream",
     "text": [
      "<class 'pandas.core.frame.DataFrame'>\n",
      "RangeIndex: 891 entries, 0 to 890\n",
      "Data columns (total 15 columns):\n",
      " #   Column       Non-Null Count  Dtype \n",
      "---  ------       --------------  ----- \n",
      " 0   survived     891 non-null    object\n",
      " 1   pclass       891 non-null    object\n",
      " 2   sex          891 non-null    object\n",
      " 3   age          891 non-null    object\n",
      " 4   sibsp        891 non-null    object\n",
      " 5   parch        891 non-null    object\n",
      " 6   fare         891 non-null    object\n",
      " 7   embarked     891 non-null    object\n",
      " 8   class        891 non-null    object\n",
      " 9   who          891 non-null    object\n",
      " 10  adult_male   891 non-null    object\n",
      " 11  deck         891 non-null    object\n",
      " 12  embark_town  891 non-null    object\n",
      " 13  alive        891 non-null    object\n",
      " 14  alone        891 non-null    object\n",
      "dtypes: object(15)\n",
      "memory usage: 104.5+ KB\n"
     ]
    }
   ],
   "source": [
    "df.info()"
   ]
  },
  {
   "cell_type": "code",
   "execution_count": 14,
   "id": "467c3585-2d70-48af-b088-2eb04babca4d",
   "metadata": {},
   "outputs": [
    {
     "data": {
      "text/html": [
       "<div>\n",
       "<style scoped>\n",
       "    .dataframe tbody tr th:only-of-type {\n",
       "        vertical-align: middle;\n",
       "    }\n",
       "\n",
       "    .dataframe tbody tr th {\n",
       "        vertical-align: top;\n",
       "    }\n",
       "\n",
       "    .dataframe thead th {\n",
       "        text-align: right;\n",
       "    }\n",
       "</style>\n",
       "<table border=\"1\" class=\"dataframe\">\n",
       "  <thead>\n",
       "    <tr style=\"text-align: right;\">\n",
       "      <th></th>\n",
       "      <th>survived</th>\n",
       "      <th>pclass</th>\n",
       "      <th>sex</th>\n",
       "      <th>age</th>\n",
       "      <th>sibsp</th>\n",
       "      <th>parch</th>\n",
       "      <th>fare</th>\n",
       "      <th>embarked</th>\n",
       "      <th>class</th>\n",
       "      <th>who</th>\n",
       "      <th>adult_male</th>\n",
       "      <th>deck</th>\n",
       "      <th>embark_town</th>\n",
       "      <th>alive</th>\n",
       "      <th>alone</th>\n",
       "    </tr>\n",
       "  </thead>\n",
       "  <tbody>\n",
       "    <tr>\n",
       "      <th>0</th>\n",
       "      <td>0</td>\n",
       "      <td>3</td>\n",
       "      <td>male</td>\n",
       "      <td>22.0</td>\n",
       "      <td>1</td>\n",
       "      <td>0</td>\n",
       "      <td>7.25</td>\n",
       "      <td>S</td>\n",
       "      <td>Third</td>\n",
       "      <td>man</td>\n",
       "      <td>True</td>\n",
       "      <td></td>\n",
       "      <td>Southampton</td>\n",
       "      <td>no</td>\n",
       "      <td>False</td>\n",
       "    </tr>\n",
       "    <tr>\n",
       "      <th>1</th>\n",
       "      <td>1</td>\n",
       "      <td>1</td>\n",
       "      <td>female</td>\n",
       "      <td>38.0</td>\n",
       "      <td>1</td>\n",
       "      <td>0</td>\n",
       "      <td>71.2833</td>\n",
       "      <td>C</td>\n",
       "      <td>First</td>\n",
       "      <td>woman</td>\n",
       "      <td>False</td>\n",
       "      <td>C</td>\n",
       "      <td>Cherbourg</td>\n",
       "      <td>yes</td>\n",
       "      <td>False</td>\n",
       "    </tr>\n",
       "    <tr>\n",
       "      <th>2</th>\n",
       "      <td>1</td>\n",
       "      <td>3</td>\n",
       "      <td>female</td>\n",
       "      <td>26.0</td>\n",
       "      <td>0</td>\n",
       "      <td>0</td>\n",
       "      <td>7.925</td>\n",
       "      <td>S</td>\n",
       "      <td>Third</td>\n",
       "      <td>woman</td>\n",
       "      <td>False</td>\n",
       "      <td></td>\n",
       "      <td>Southampton</td>\n",
       "      <td>yes</td>\n",
       "      <td>True</td>\n",
       "    </tr>\n",
       "    <tr>\n",
       "      <th>3</th>\n",
       "      <td>1</td>\n",
       "      <td>1</td>\n",
       "      <td>female</td>\n",
       "      <td>35.0</td>\n",
       "      <td>1</td>\n",
       "      <td>0</td>\n",
       "      <td>53.1</td>\n",
       "      <td>S</td>\n",
       "      <td>First</td>\n",
       "      <td>woman</td>\n",
       "      <td>False</td>\n",
       "      <td>C</td>\n",
       "      <td>Southampton</td>\n",
       "      <td>yes</td>\n",
       "      <td>False</td>\n",
       "    </tr>\n",
       "    <tr>\n",
       "      <th>4</th>\n",
       "      <td>0</td>\n",
       "      <td>3</td>\n",
       "      <td>male</td>\n",
       "      <td>35.0</td>\n",
       "      <td>0</td>\n",
       "      <td>0</td>\n",
       "      <td>8.05</td>\n",
       "      <td>S</td>\n",
       "      <td>Third</td>\n",
       "      <td>man</td>\n",
       "      <td>True</td>\n",
       "      <td></td>\n",
       "      <td>Southampton</td>\n",
       "      <td>no</td>\n",
       "      <td>True</td>\n",
       "    </tr>\n",
       "    <tr>\n",
       "      <th>...</th>\n",
       "      <td>...</td>\n",
       "      <td>...</td>\n",
       "      <td>...</td>\n",
       "      <td>...</td>\n",
       "      <td>...</td>\n",
       "      <td>...</td>\n",
       "      <td>...</td>\n",
       "      <td>...</td>\n",
       "      <td>...</td>\n",
       "      <td>...</td>\n",
       "      <td>...</td>\n",
       "      <td>...</td>\n",
       "      <td>...</td>\n",
       "      <td>...</td>\n",
       "      <td>...</td>\n",
       "    </tr>\n",
       "    <tr>\n",
       "      <th>886</th>\n",
       "      <td>0</td>\n",
       "      <td>2</td>\n",
       "      <td>male</td>\n",
       "      <td>27.0</td>\n",
       "      <td>0</td>\n",
       "      <td>0</td>\n",
       "      <td>13.0</td>\n",
       "      <td>S</td>\n",
       "      <td>Second</td>\n",
       "      <td>man</td>\n",
       "      <td>True</td>\n",
       "      <td></td>\n",
       "      <td>Southampton</td>\n",
       "      <td>no</td>\n",
       "      <td>True</td>\n",
       "    </tr>\n",
       "    <tr>\n",
       "      <th>887</th>\n",
       "      <td>1</td>\n",
       "      <td>1</td>\n",
       "      <td>female</td>\n",
       "      <td>19.0</td>\n",
       "      <td>0</td>\n",
       "      <td>0</td>\n",
       "      <td>30.0</td>\n",
       "      <td>S</td>\n",
       "      <td>First</td>\n",
       "      <td>woman</td>\n",
       "      <td>False</td>\n",
       "      <td>B</td>\n",
       "      <td>Southampton</td>\n",
       "      <td>yes</td>\n",
       "      <td>True</td>\n",
       "    </tr>\n",
       "    <tr>\n",
       "      <th>888</th>\n",
       "      <td>0</td>\n",
       "      <td>3</td>\n",
       "      <td>female</td>\n",
       "      <td></td>\n",
       "      <td>1</td>\n",
       "      <td>2</td>\n",
       "      <td>23.45</td>\n",
       "      <td>S</td>\n",
       "      <td>Third</td>\n",
       "      <td>woman</td>\n",
       "      <td>False</td>\n",
       "      <td></td>\n",
       "      <td>Southampton</td>\n",
       "      <td>no</td>\n",
       "      <td>False</td>\n",
       "    </tr>\n",
       "    <tr>\n",
       "      <th>889</th>\n",
       "      <td>1</td>\n",
       "      <td>1</td>\n",
       "      <td>male</td>\n",
       "      <td>26.0</td>\n",
       "      <td>0</td>\n",
       "      <td>0</td>\n",
       "      <td>30.0</td>\n",
       "      <td>C</td>\n",
       "      <td>First</td>\n",
       "      <td>man</td>\n",
       "      <td>True</td>\n",
       "      <td>C</td>\n",
       "      <td>Cherbourg</td>\n",
       "      <td>yes</td>\n",
       "      <td>True</td>\n",
       "    </tr>\n",
       "    <tr>\n",
       "      <th>890</th>\n",
       "      <td>0</td>\n",
       "      <td>3</td>\n",
       "      <td>male</td>\n",
       "      <td>32.0</td>\n",
       "      <td>0</td>\n",
       "      <td>0</td>\n",
       "      <td>7.75</td>\n",
       "      <td>Q</td>\n",
       "      <td>Third</td>\n",
       "      <td>man</td>\n",
       "      <td>True</td>\n",
       "      <td></td>\n",
       "      <td>Queenstown</td>\n",
       "      <td>no</td>\n",
       "      <td>True</td>\n",
       "    </tr>\n",
       "  </tbody>\n",
       "</table>\n",
       "<p>891 rows × 15 columns</p>\n",
       "</div>"
      ],
      "text/plain": [
       "0   survived pclass     sex   age sibsp parch     fare embarked   class  \\\n",
       "0          0      3    male  22.0     1     0     7.25        S   Third   \n",
       "1          1      1  female  38.0     1     0  71.2833        C   First   \n",
       "2          1      3  female  26.0     0     0    7.925        S   Third   \n",
       "3          1      1  female  35.0     1     0     53.1        S   First   \n",
       "4          0      3    male  35.0     0     0     8.05        S   Third   \n",
       "..       ...    ...     ...   ...   ...   ...      ...      ...     ...   \n",
       "886        0      2    male  27.0     0     0     13.0        S  Second   \n",
       "887        1      1  female  19.0     0     0     30.0        S   First   \n",
       "888        0      3  female           1     2    23.45        S   Third   \n",
       "889        1      1    male  26.0     0     0     30.0        C   First   \n",
       "890        0      3    male  32.0     0     0     7.75        Q   Third   \n",
       "\n",
       "0      who adult_male deck  embark_town alive  alone  \n",
       "0      man       True       Southampton    no  False  \n",
       "1    woman      False    C    Cherbourg   yes  False  \n",
       "2    woman      False       Southampton   yes   True  \n",
       "3    woman      False    C  Southampton   yes  False  \n",
       "4      man       True       Southampton    no   True  \n",
       "..     ...        ...  ...          ...   ...    ...  \n",
       "886    man       True       Southampton    no   True  \n",
       "887  woman      False    B  Southampton   yes   True  \n",
       "888  woman      False       Southampton    no  False  \n",
       "889    man       True    C    Cherbourg   yes   True  \n",
       "890    man       True        Queenstown    no   True  \n",
       "\n",
       "[891 rows x 15 columns]"
      ]
     },
     "execution_count": 14,
     "metadata": {},
     "output_type": "execute_result"
    }
   ],
   "source": [
    "df"
   ]
  },
  {
   "cell_type": "code",
   "execution_count": 15,
   "id": "1ad39a31-4d47-4949-b7dc-392fbc6d5f86",
   "metadata": {},
   "outputs": [],
   "source": [
    "df['fare']=df['fare'].astype('float')"
   ]
  },
  {
   "cell_type": "code",
   "execution_count": 16,
   "id": "2b95527e-674c-47bd-9244-f434fc8140be",
   "metadata": {},
   "outputs": [
    {
     "data": {
      "text/html": [
       "<div>\n",
       "<style scoped>\n",
       "    .dataframe tbody tr th:only-of-type {\n",
       "        vertical-align: middle;\n",
       "    }\n",
       "\n",
       "    .dataframe tbody tr th {\n",
       "        vertical-align: top;\n",
       "    }\n",
       "\n",
       "    .dataframe thead th {\n",
       "        text-align: right;\n",
       "    }\n",
       "</style>\n",
       "<table border=\"1\" class=\"dataframe\">\n",
       "  <thead>\n",
       "    <tr style=\"text-align: right;\">\n",
       "      <th></th>\n",
       "      <th>survived</th>\n",
       "      <th>pclass</th>\n",
       "      <th>sex</th>\n",
       "      <th>age</th>\n",
       "      <th>sibsp</th>\n",
       "      <th>parch</th>\n",
       "      <th>fare</th>\n",
       "      <th>embarked</th>\n",
       "      <th>class</th>\n",
       "      <th>who</th>\n",
       "      <th>adult_male</th>\n",
       "      <th>deck</th>\n",
       "      <th>embark_town</th>\n",
       "      <th>alive</th>\n",
       "      <th>alone</th>\n",
       "    </tr>\n",
       "  </thead>\n",
       "  <tbody>\n",
       "    <tr>\n",
       "      <th>0</th>\n",
       "      <td>0</td>\n",
       "      <td>3</td>\n",
       "      <td>male</td>\n",
       "      <td>22.0</td>\n",
       "      <td>1</td>\n",
       "      <td>0</td>\n",
       "      <td>7.2500</td>\n",
       "      <td>S</td>\n",
       "      <td>Third</td>\n",
       "      <td>man</td>\n",
       "      <td>True</td>\n",
       "      <td></td>\n",
       "      <td>Southampton</td>\n",
       "      <td>no</td>\n",
       "      <td>False</td>\n",
       "    </tr>\n",
       "    <tr>\n",
       "      <th>1</th>\n",
       "      <td>1</td>\n",
       "      <td>1</td>\n",
       "      <td>female</td>\n",
       "      <td>38.0</td>\n",
       "      <td>1</td>\n",
       "      <td>0</td>\n",
       "      <td>71.2833</td>\n",
       "      <td>C</td>\n",
       "      <td>First</td>\n",
       "      <td>woman</td>\n",
       "      <td>False</td>\n",
       "      <td>C</td>\n",
       "      <td>Cherbourg</td>\n",
       "      <td>yes</td>\n",
       "      <td>False</td>\n",
       "    </tr>\n",
       "    <tr>\n",
       "      <th>2</th>\n",
       "      <td>1</td>\n",
       "      <td>3</td>\n",
       "      <td>female</td>\n",
       "      <td>26.0</td>\n",
       "      <td>0</td>\n",
       "      <td>0</td>\n",
       "      <td>7.9250</td>\n",
       "      <td>S</td>\n",
       "      <td>Third</td>\n",
       "      <td>woman</td>\n",
       "      <td>False</td>\n",
       "      <td></td>\n",
       "      <td>Southampton</td>\n",
       "      <td>yes</td>\n",
       "      <td>True</td>\n",
       "    </tr>\n",
       "    <tr>\n",
       "      <th>3</th>\n",
       "      <td>1</td>\n",
       "      <td>1</td>\n",
       "      <td>female</td>\n",
       "      <td>35.0</td>\n",
       "      <td>1</td>\n",
       "      <td>0</td>\n",
       "      <td>53.1000</td>\n",
       "      <td>S</td>\n",
       "      <td>First</td>\n",
       "      <td>woman</td>\n",
       "      <td>False</td>\n",
       "      <td>C</td>\n",
       "      <td>Southampton</td>\n",
       "      <td>yes</td>\n",
       "      <td>False</td>\n",
       "    </tr>\n",
       "    <tr>\n",
       "      <th>4</th>\n",
       "      <td>0</td>\n",
       "      <td>3</td>\n",
       "      <td>male</td>\n",
       "      <td>35.0</td>\n",
       "      <td>0</td>\n",
       "      <td>0</td>\n",
       "      <td>8.0500</td>\n",
       "      <td>S</td>\n",
       "      <td>Third</td>\n",
       "      <td>man</td>\n",
       "      <td>True</td>\n",
       "      <td></td>\n",
       "      <td>Southampton</td>\n",
       "      <td>no</td>\n",
       "      <td>True</td>\n",
       "    </tr>\n",
       "  </tbody>\n",
       "</table>\n",
       "</div>"
      ],
      "text/plain": [
       "0 survived pclass     sex   age sibsp parch     fare embarked  class    who  \\\n",
       "0        0      3    male  22.0     1     0   7.2500        S  Third    man   \n",
       "1        1      1  female  38.0     1     0  71.2833        C  First  woman   \n",
       "2        1      3  female  26.0     0     0   7.9250        S  Third  woman   \n",
       "3        1      1  female  35.0     1     0  53.1000        S  First  woman   \n",
       "4        0      3    male  35.0     0     0   8.0500        S  Third    man   \n",
       "\n",
       "0 adult_male deck  embark_town alive  alone  \n",
       "0       True       Southampton    no  False  \n",
       "1      False    C    Cherbourg   yes  False  \n",
       "2      False       Southampton   yes   True  \n",
       "3      False    C  Southampton   yes  False  \n",
       "4       True       Southampton    no   True  "
      ]
     },
     "execution_count": 16,
     "metadata": {},
     "output_type": "execute_result"
    }
   ],
   "source": [
    "df.head()"
   ]
  },
  {
   "cell_type": "code",
   "execution_count": 17,
   "id": "cabe8409-af56-4530-9c87-11788c164e3d",
   "metadata": {},
   "outputs": [
    {
     "name": "stdout",
     "output_type": "stream",
     "text": [
      "survival_rate:38.383838%\n"
     ]
    }
   ],
   "source": [
    "#what is the survival Rate\n",
    "df['survived']=pd.to_numeric(df['survived'],errors='coerce')\n",
    "survival_rate=df['survived'].mean()*100\n",
    "print(f'survival_rate:{survival_rate:2f}%')\n"
   ]
  },
  {
   "cell_type": "code",
   "execution_count": 18,
   "id": "39598f42-c547-4a10-a19b-29b877faa73e",
   "metadata": {},
   "outputs": [
    {
     "name": "stdout",
     "output_type": "stream",
     "text": [
      "sex\n",
      "male      577\n",
      "female    314\n",
      "Name: count, dtype: int64\n"
     ]
    }
   ],
   "source": [
    "#what is the gender distribution of passenger\n",
    "gender_counts=df['sex'].value_counts()\n",
    "print(gender_counts)"
   ]
  },
  {
   "cell_type": "code",
   "execution_count": 19,
   "id": "569bb761-9516-41d1-9ca0-1c57f8a21443",
   "metadata": {},
   "outputs": [
    {
     "name": "stdout",
     "output_type": "stream",
     "text": [
      "class\n",
      "First     62.962963\n",
      "Second    47.282609\n",
      "Third     24.236253\n",
      "Name: survived, dtype: float64\n"
     ]
    }
   ],
   "source": [
    "survival_by_class=df.groupby('class')['survived'].mean()*100\n",
    "print(survival_by_class)"
   ]
  },
  {
   "cell_type": "code",
   "execution_count": 20,
   "id": "64e9444b-fa3e-48a8-a6ea-857624d9d202",
   "metadata": {},
   "outputs": [
    {
     "data": {
      "image/png": "[encoded data removed]",
      "text/plain": [
       "<Figure size 640x480 with 1 Axes>"
      ]
     },
     "metadata": {},
     "output_type": "display_data"
    }
   ],
   "source": [
    "survival_by_class.plot(kind='bar',color='seagreen')\n",
    "plt.title('survival rate by passenger class')\n",
    "plt.ylabel('survival rate(%)')\n",
    "plt.xlabel('passenger class')\n",
    "plt.xticks(rotation=0)\n",
    "plt.show()"
   ]
  },
  {
   "cell_type": "code",
   "execution_count": 21,
   "id": "39c3388f-7e29-436b-ad49-4eea3c6ca918",
   "metadata": {},
   "outputs": [
    {
     "name": "stdout",
     "output_type": "stream",
     "text": [
      "count    714.000000\n",
      "mean      29.699118\n",
      "std       14.526497\n",
      "min        0.420000\n",
      "25%       20.125000\n",
      "50%       28.000000\n",
      "75%       38.000000\n",
      "max       80.000000\n",
      "Name: age, dtype: float64\n"
     ]
    }
   ],
   "source": [
    "df['age']=pd.to_numeric(df['age'],errors='coerce')\n",
    "print(df['age'].describe())"
   ]
  },
  {
   "cell_type": "code",
   "execution_count": 22,
   "id": "cfa69e59-9e6a-4966-a6dc-ea1a14d607d5",
   "metadata": {},
   "outputs": [
    {
     "data": {
      "image/png": "[encoded data removed]",
      "text/plain": [
       "<Figure size 640x480 with 1 Axes>"
      ]
     },
     "metadata": {},
     "output_type": "display_data"
    }
   ],
   "source": [
    "df['age'].hist(bins=30,color='blue',edgecolor ='black')\n",
    "plt.title('Age distribution of titanic passenger')\n",
    "plt.ylabel('Age')\n",
    "plt.xlabel('number of passenger')\n",
    "plt.grid(False)\n",
    "plt.show()"
   ]
  },
  {
   "cell_type": "code",
   "execution_count": 23,
   "id": "cc8dce36-d283-48f6-bd9a-d0e3af9438d0",
   "metadata": {},
   "outputs": [
    {
     "data": {
      "text/plain": [
       "embarked\n",
       "S    0.722783\n",
       "C    0.188552\n",
       "Q    0.086420\n",
       "     0.002245\n",
       "Name: proportion, dtype: float64"
      ]
     },
     "execution_count": 23,
     "metadata": {},
     "output_type": "execute_result"
    }
   ],
   "source": [
    "#how many passenger embarked from each location\n",
    "df['embarked'].value_counts(normalize=True)"
   ]
  },
  {
   "cell_type": "code",
   "execution_count": 24,
   "id": "393478ce-6369-468a-ad4a-1c5b345ed398",
   "metadata": {},
   "outputs": [
    {
     "name": "stdout",
     "output_type": "stream",
     "text": [
      "class\n",
      "First     84.154687\n",
      "Second    20.662183\n",
      "Third     13.675550\n",
      "Name: fare, dtype: float64\n"
     ]
    }
   ],
   "source": [
    "#what is the average fare paid per class\n",
    "df['fare']=pd.to_numeric(df['fare'],errors='coerce')\n",
    "Average_fare=df.groupby('class')['fare'].mean()\n",
    "print(Average_fare)"
   ]
  },
  {
   "cell_type": "code",
   "execution_count": 25,
   "id": "e9fdd1d8-8108-472a-8a15-7217ebb58a85",
   "metadata": {},
   "outputs": [
    {
     "name": "stdout",
     "output_type": "stream",
     "text": [
      "sex\n",
      "female    74.203822\n",
      "male      18.890815\n",
      "Name: survived, dtype: float64\n"
     ]
    }
   ],
   "source": [
    "#how does gender affect survival rate\n",
    "survival_by_gender=df.groupby('sex')['survived'].mean()*100\n",
    "print(survival_by_gender)"
   ]
  },
  {
   "cell_type": "code",
   "execution_count": 26,
   "id": "c94fb159-a0b5-467c-8ceb-2a1a4d44d26e",
   "metadata": {},
   "outputs": [
    {
     "data": {
      "image/png": "[encoded data removed]",
      "text/plain": [
       "<Figure size 640x480 with 1 Axes>"
      ]
     },
     "metadata": {},
     "output_type": "display_data"
    }
   ],
   "source": [
    "survival_by_gender.plot(kind='bar',color=['green','blue'])\n",
    "plt.title('survival Rate by gender')\n",
    "plt.ylabel('survival rate(%)')\n",
    "plt.xlabel('Gender')\n",
    "plt.xticks(rotation=0)\n",
    "plt.show()"
   ]
  },
  {
   "cell_type": "code",
   "execution_count": 27,
   "id": "a9396546-3b08-4c77-8109-87f8c72e4c49",
   "metadata": {},
   "outputs": [
    {
     "name": "stdout",
     "output_type": "stream",
     "text": [
      "correlation between fare and survival:0.257307\n"
     ]
    }
   ],
   "source": [
    "correlation=df['fare'].corr(df['survived'])\n",
    "print(f'correlation between fare and survival:{correlation:2f}')"
   ]
  },
  {
   "cell_type": "code",
   "execution_count": 28,
   "id": "a40c5709-f66b-4953-a409-e6d22d77d093",
   "metadata": {},
   "outputs": [
    {
     "name": "stdout",
     "output_type": "stream",
     "text": [
      "correlation between fare and survival:0.257307\n"
     ]
    },
    {
     "data": {
      "image/png": "[encoded data removed]",
      "text/plain": [
       "<Figure size 640x480 with 1 Axes>"
      ]
     },
     "metadata": {},
     "output_type": "display_data"
    }
   ],
   "source": [
    "correlation=df['fare'].corr(df['survived'])\n",
    "print(f'correlation between fare and survival:{correlation:2f}')\n",
    "plt.scatter(df['fare'],df['survived'],alpha=0.5,color='Blue')\n",
    "plt.title('Fare and Survival')\n",
    "plt.xlabel('fare Paid (euro)')\n",
    "plt.ylabel('survived(1=Yes,0=No)')\n",
    "plt.grid(True)\n",
    "plt.show()"
   ]
  },
  {
   "cell_type": "code",
   "execution_count": 29,
   "id": "940f6959-6fea-4019-98e1-8147546dc9cc",
   "metadata": {},
   "outputs": [
    {
     "name": "stdout",
     "output_type": "stream",
     "text": [
      "sibsp\n",
      "0    34.54\n",
      "1    53.59\n",
      "2    46.43\n",
      "3    25.00\n",
      "4    16.67\n",
      "5     0.00\n",
      "8     0.00\n",
      "Name: survived, dtype: float64\n"
     ]
    }
   ],
   "source": [
    "df['sibsp']=pd.to_numeric(df['sibsp'],errors='coerce')\n",
    "sibsp_survival=df.groupby('sibsp')['survived'].mean()*100\n",
    "print(sibsp_survival.round(2))"
   ]
  },
  {
   "cell_type": "code",
   "execution_count": 30,
   "id": "53367907-a6ff-465a-ad34-65740bc59cea",
   "metadata": {},
   "outputs": [
    {
     "data": {
      "image/png": "[encoded data removed]",
      "text/plain": [
       "<Figure size 640x480 with 1 Axes>"
      ]
     },
     "metadata": {},
     "output_type": "display_data"
    }
   ],
   "source": [
    "sibsp_survival.plot(kind='bar',color='orchid')\n",
    "plt.title('survival Rate by Number of siblings/Spouses Aboard')\n",
    "plt.ylabel('survival rate(%)')\n",
    "plt.xlabel('Number of Siblings/spouse')\n",
    "plt.xticks(rotation=0)\n",
    "plt.grid(axis='y')\n",
    "plt.show()"
   ]
  },
  {
   "cell_type": "code",
   "execution_count": 31,
   "id": "ae731933-91b3-47dc-a4df-5562bd1efb9d",
   "metadata": {},
   "outputs": [
    {
     "name": "stdout",
     "output_type": "stream",
     "text": [
      "        count   mean   std   min   25%   50%   75%   max\n",
      "class                                                   \n",
      "First   186.0  38.23  14.8  0.92  27.0  37.0  49.0  80.0\n",
      "Second  173.0  29.88  14.0  0.67  23.0  29.0  36.0  70.0\n",
      "Third   355.0  25.14  12.5  0.42  18.0  24.0  32.0  74.0\n"
     ]
    }
   ],
   "source": [
    "age_by_class=df.groupby('class')['age'].describe().round(2)\n",
    "print(age_by_class)\n",
    "\n"
   ]
  },
  {
   "cell_type": "code",
   "execution_count": 32,
   "id": "4d503a4d-76cf-4cd7-9ae7-812ad9c10700",
   "metadata": {},
   "outputs": [
    {
     "name": "stdout",
     "output_type": "stream",
     "text": [
      "embarked\n",
      "     100.000000\n",
      "C     55.357143\n",
      "Q     38.961039\n",
      "S     33.695652\n",
      "Name: survived, dtype: float64\n"
     ]
    }
   ],
   "source": [
    "survival_by_embark=df.groupby('embarked')['survived'].mean()*100\n",
    "print(survival_by_embark)"
   ]
  },
  {
   "cell_type": "code",
   "execution_count": 33,
   "id": "7b8cf314-bd88-44a4-966a-92f44ae977c6",
   "metadata": {},
   "outputs": [
    {
     "name": "stdout",
     "output_type": "stream",
     "text": [
      "parch\n",
      "0    34.365782\n",
      "1    55.084746\n",
      "2    50.000000\n",
      "3    60.000000\n",
      "4     0.000000\n",
      "5    20.000000\n",
      "6     0.000000\n",
      "Name: survived, dtype: float64\n"
     ]
    }
   ],
   "source": [
    "df['parch']= pd.to_numeric(df['parch'],errors='coerce')\n",
    "parch_survival=df.groupby('parch')['survived'].mean()*100\n",
    "print(parch_survival)"
   ]
  },
  {
   "cell_type": "code",
   "execution_count": null,
   "id": "7e4604a6-6672-4c02-8986-5275ecf23f6f",
   "metadata": {},
   "outputs": [],
   "source": []
  }
 ],
 "metadata": {
  "kernelspec": {
   "display_name": "Python 3 (ipykernel)",
   "language": "python",
   "name": "python3"
  },
  "language_info": {
   "codemirror_mode": {
    "name": "ipython",
    "version": 3
   },
   "file_extension": ".py",
   "mimetype": "text/x-python",
   "name": "python",
   "nbconvert_exporter": "python",
   "pygments_lexer": "ipython3",
   "version": "3.12.7"
  }
 },
 "nbformat": 4,
 "nbformat_minor": 5
}
